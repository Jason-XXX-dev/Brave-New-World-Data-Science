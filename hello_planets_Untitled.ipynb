{
 "cells": [
  {
   "cell_type": "code",
   "execution_count": 3,
   "id": "aa5ebcd4-464b-4596-9238-20f6e7beeec1",
   "metadata": {},
   "outputs": [
    {
     "name": "stdout",
     "output_type": "stream",
     "text": [
      "3.10.12 (main, Jun 11 2023, 05:26:28) [GCC 11.4.0]\n"
     ]
    }
   ],
   "source": [
    "import sys\n",
    "print(sys.version)"
   ]
  },
  {
   "cell_type": "code",
   "execution_count": 9,
   "id": "a80fa3da-de60-4da6-8ac9-0607d3648f9e",
   "metadata": {},
   "outputs": [
    {
     "name": "stdout",
     "output_type": "stream",
     "text": [
      "Hello From The Planet SATURN\n",
      "This Program Has Now Finished...........\n"
     ]
    }
   ],
   "source": [
    "# Lesson One\n",
    "\n",
    "\n",
    "'''\n",
    "Licenced : Chevsco Solutions (c)\n",
    "Date     : 2023-10-25 12:46:11\n",
    "Author   : Danny Chela\n",
    "Notes    : This Is Just A Test Delete When Finished\n",
    "'''\n",
    "\n",
    "\n",
    "def test_me(planet):\n",
    "    def EOP():\n",
    "        print(\"This Program Has Now Finished...........\")\n",
    "    print(f\"Hello From The Planet {planet}\")\n",
    "    EOP()\n",
    "\n",
    "\n",
    "if __name__==\"__main__\":\n",
    "    planet='SATURN'\n",
    "    test_me(planet)\n",
    "    "
   ]
  },
  {
   "cell_type": "code",
   "execution_count": null,
   "id": "ba826f2f-a678-4f94-9425-5bb56f272066",
   "metadata": {},
   "outputs": [],
   "source": []
  }
 ],
 "metadata": {
  "kernelspec": {
   "display_name": "Python 3 (ipykernel)",
   "language": "python",
   "name": "python3"
  },
  "language_info": {
   "codemirror_mode": {
    "name": "ipython",
    "version": 3
   },
   "file_extension": ".py",
   "mimetype": "text/x-python",
   "name": "python",
   "nbconvert_exporter": "python",
   "pygments_lexer": "ipython3",
   "version": "3.10.12"
  }
 },
 "nbformat": 4,
 "nbformat_minor": 5
}
