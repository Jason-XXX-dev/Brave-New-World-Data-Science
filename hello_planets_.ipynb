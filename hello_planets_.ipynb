{
 "cells": [
  {
   "cell_type": "code",
   "execution_count": null,
   "id": "9aeb5e3f-9332-4893-8f53-63c499dffbda",
   "metadata": {},
   "outputs": [],
   "source": [
    "# Lesson One\n",
    "\n",
    "\n",
    "'''\n",
    "Licenced : Chevsco Solutions (c)\n",
    "Date     : 2023-10-25 12:46:1\n",
    "Author   : Danny Chela\n",
    "Notes    : This Is Just A Test Delete When Finished\n",
    "'''\n",
    "\n",
    "\n",
    "def test_me(planet):\n",
    "    def EOP():\n",
    "        print(\"This Program Has Now Finished...........\")\n",
    "    print(f\"Hello From The Planet {planet}\")\n",
    "    EOP()\n",
    "\n",
    "\n",
    "if __name__==\"__main__\":\n",
    "    planet='SATURN'\n",
    "    test_me(planet)\n",
    "    "
   ]
  }
 ],
 "metadata": {
  "kernelspec": {
   "display_name": "Python 3 (ipykernel)",
   "language": "python",
   "name": "python3"
  },
  "language_info": {
   "codemirror_mode": {
    "name": "ipython",
    "version": 3
   },
   "file_extension": ".py",
   "mimetype": "text/x-python",
   "name": "python",
   "nbconvert_exporter": "python",
   "pygments_lexer": "ipython3",
   "version": "3.10.12"
  }
 },
 "nbformat": 4,
 "nbformat_minor": 5
}
